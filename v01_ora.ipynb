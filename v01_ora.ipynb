{
 "cells": [
  {
   "cell_type": "markdown",
   "metadata": {
    "id": "vBTqKzmjw9VN"
   },
   "source": [
    "## Importar librerías"
   ]
  },
  {
   "cell_type": "code",
   "execution_count": 4,
   "metadata": {
    "collapsed": true,
    "id": "JMAePVe6w1OK",
    "pycharm": {
     "name": "#%%\n"
    }
   },
   "outputs": [],
   "source": [
    "import os\n",
    "import pandas as pd\n",
    "import matplotlib.pyplot as plt\n",
    "#python -m pip install scipy\n",
    "import scipy\n",
    "\n",
    "import numpy as np \n"
   ]
  },
  {
   "cell_type": "markdown",
   "metadata": {
    "id": "t4ccb5LjxAce"
   },
   "source": [
    "## Carga de datos"
   ]
  },
  {
   "cell_type": "code",
   "execution_count": 5,
   "metadata": {
    "id": "jy4_xrGEw1OS",
    "pycharm": {
     "name": "#%%\n"
    }
   },
   "outputs": [],
   "source": [
    "df=pd.read_csv('Estimaciones-1.csv',encoding='latin-1',delimiter=';')"
   ]
  },
  {
   "cell_type": "code",
   "execution_count": 6,
   "metadata": {},
   "outputs": [
    {
     "data": {
      "text/html": [
       "<div>\n",
       "<style scoped>\n",
       "    .dataframe tbody tr th:only-of-type {\n",
       "        vertical-align: middle;\n",
       "    }\n",
       "\n",
       "    .dataframe tbody tr th {\n",
       "        vertical-align: top;\n",
       "    }\n",
       "\n",
       "    .dataframe thead th {\n",
       "        text-align: right;\n",
       "    }\n",
       "</style>\n",
       "<table border=\"1\" class=\"dataframe\">\n",
       "  <thead>\n",
       "    <tr style=\"text-align: right;\">\n",
       "      <th></th>\n",
       "      <th>Cultivo</th>\n",
       "      <th>Campaña</th>\n",
       "      <th>Provincia</th>\n",
       "      <th>Departamento</th>\n",
       "      <th>idProvincia</th>\n",
       "      <th>idDepartamento</th>\n",
       "      <th>Sup. Sembrada</th>\n",
       "      <th>Sup. Cosechada</th>\n",
       "      <th>Producción</th>\n",
       "      <th>Rendimiento</th>\n",
       "    </tr>\n",
       "  </thead>\n",
       "  <tbody>\n",
       "    <tr>\n",
       "      <th>0</th>\n",
       "      <td>Soja 1ra</td>\n",
       "      <td>2000/01</td>\n",
       "      <td>BUENOS AIRES</td>\n",
       "      <td>JUNIN</td>\n",
       "      <td>6</td>\n",
       "      <td>413</td>\n",
       "      <td>30000</td>\n",
       "      <td>29600</td>\n",
       "      <td>88800</td>\n",
       "      <td>3000</td>\n",
       "    </tr>\n",
       "    <tr>\n",
       "      <th>1</th>\n",
       "      <td>Soja 1ra</td>\n",
       "      <td>2001/02</td>\n",
       "      <td>BUENOS AIRES</td>\n",
       "      <td>JUNIN</td>\n",
       "      <td>6</td>\n",
       "      <td>413</td>\n",
       "      <td>32000</td>\n",
       "      <td>32000</td>\n",
       "      <td>102500</td>\n",
       "      <td>3203</td>\n",
       "    </tr>\n",
       "    <tr>\n",
       "      <th>2</th>\n",
       "      <td>Soja 1ra</td>\n",
       "      <td>2002/03</td>\n",
       "      <td>BUENOS AIRES</td>\n",
       "      <td>JUNIN</td>\n",
       "      <td>6</td>\n",
       "      <td>413</td>\n",
       "      <td>48000</td>\n",
       "      <td>47900</td>\n",
       "      <td>163000</td>\n",
       "      <td>3403</td>\n",
       "    </tr>\n",
       "    <tr>\n",
       "      <th>3</th>\n",
       "      <td>Soja 1ra</td>\n",
       "      <td>2003/04</td>\n",
       "      <td>BUENOS AIRES</td>\n",
       "      <td>JUNIN</td>\n",
       "      <td>6</td>\n",
       "      <td>413</td>\n",
       "      <td>58000</td>\n",
       "      <td>58000</td>\n",
       "      <td>168200</td>\n",
       "      <td>2900</td>\n",
       "    </tr>\n",
       "    <tr>\n",
       "      <th>4</th>\n",
       "      <td>Soja 1ra</td>\n",
       "      <td>2004/05</td>\n",
       "      <td>BUENOS AIRES</td>\n",
       "      <td>JUNIN</td>\n",
       "      <td>6</td>\n",
       "      <td>413</td>\n",
       "      <td>70689</td>\n",
       "      <td>70689</td>\n",
       "      <td>251319</td>\n",
       "      <td>3555</td>\n",
       "    </tr>\n",
       "    <tr>\n",
       "      <th>5</th>\n",
       "      <td>Soja 1ra</td>\n",
       "      <td>2005/06</td>\n",
       "      <td>BUENOS AIRES</td>\n",
       "      <td>JUNIN</td>\n",
       "      <td>6</td>\n",
       "      <td>413</td>\n",
       "      <td>77000</td>\n",
       "      <td>77000</td>\n",
       "      <td>260164</td>\n",
       "      <td>3379</td>\n",
       "    </tr>\n",
       "    <tr>\n",
       "      <th>6</th>\n",
       "      <td>Soja 1ra</td>\n",
       "      <td>2006/07</td>\n",
       "      <td>BUENOS AIRES</td>\n",
       "      <td>JUNIN</td>\n",
       "      <td>6</td>\n",
       "      <td>413</td>\n",
       "      <td>75000</td>\n",
       "      <td>75000</td>\n",
       "      <td>285000</td>\n",
       "      <td>3800</td>\n",
       "    </tr>\n",
       "    <tr>\n",
       "      <th>7</th>\n",
       "      <td>Soja 1ra</td>\n",
       "      <td>2007/08</td>\n",
       "      <td>BUENOS AIRES</td>\n",
       "      <td>JUNIN</td>\n",
       "      <td>6</td>\n",
       "      <td>413</td>\n",
       "      <td>73000</td>\n",
       "      <td>73000</td>\n",
       "      <td>304729</td>\n",
       "      <td>4174</td>\n",
       "    </tr>\n",
       "    <tr>\n",
       "      <th>8</th>\n",
       "      <td>Soja 1ra</td>\n",
       "      <td>2008/09</td>\n",
       "      <td>BUENOS AIRES</td>\n",
       "      <td>JUNIN</td>\n",
       "      <td>6</td>\n",
       "      <td>413</td>\n",
       "      <td>119130</td>\n",
       "      <td>119130</td>\n",
       "      <td>194167</td>\n",
       "      <td>1630</td>\n",
       "    </tr>\n",
       "    <tr>\n",
       "      <th>9</th>\n",
       "      <td>Soja 1ra</td>\n",
       "      <td>2009/10</td>\n",
       "      <td>BUENOS AIRES</td>\n",
       "      <td>JUNIN</td>\n",
       "      <td>6</td>\n",
       "      <td>413</td>\n",
       "      <td>107000</td>\n",
       "      <td>107000</td>\n",
       "      <td>374500</td>\n",
       "      <td>3500</td>\n",
       "    </tr>\n",
       "    <tr>\n",
       "      <th>10</th>\n",
       "      <td>Soja 1ra</td>\n",
       "      <td>2010/11</td>\n",
       "      <td>BUENOS AIRES</td>\n",
       "      <td>JUNIN</td>\n",
       "      <td>6</td>\n",
       "      <td>413</td>\n",
       "      <td>110000</td>\n",
       "      <td>110000</td>\n",
       "      <td>440000</td>\n",
       "      <td>4000</td>\n",
       "    </tr>\n",
       "    <tr>\n",
       "      <th>11</th>\n",
       "      <td>Soja 1ra</td>\n",
       "      <td>2011/12</td>\n",
       "      <td>BUENOS AIRES</td>\n",
       "      <td>JUNIN</td>\n",
       "      <td>6</td>\n",
       "      <td>413</td>\n",
       "      <td>110000</td>\n",
       "      <td>110000</td>\n",
       "      <td>374000</td>\n",
       "      <td>3400</td>\n",
       "    </tr>\n",
       "    <tr>\n",
       "      <th>12</th>\n",
       "      <td>Soja 1ra</td>\n",
       "      <td>2012/13</td>\n",
       "      <td>BUENOS AIRES</td>\n",
       "      <td>JUNIN</td>\n",
       "      <td>6</td>\n",
       "      <td>413</td>\n",
       "      <td>121000</td>\n",
       "      <td>121000</td>\n",
       "      <td>459800</td>\n",
       "      <td>3800</td>\n",
       "    </tr>\n",
       "    <tr>\n",
       "      <th>13</th>\n",
       "      <td>Soja 1ra</td>\n",
       "      <td>2013/14</td>\n",
       "      <td>BUENOS AIRES</td>\n",
       "      <td>JUNIN</td>\n",
       "      <td>6</td>\n",
       "      <td>413</td>\n",
       "      <td>123000</td>\n",
       "      <td>121000</td>\n",
       "      <td>508200</td>\n",
       "      <td>4200</td>\n",
       "    </tr>\n",
       "    <tr>\n",
       "      <th>14</th>\n",
       "      <td>Soja 1ra</td>\n",
       "      <td>2014/15</td>\n",
       "      <td>BUENOS AIRES</td>\n",
       "      <td>JUNIN</td>\n",
       "      <td>6</td>\n",
       "      <td>413</td>\n",
       "      <td>109998</td>\n",
       "      <td>107998</td>\n",
       "      <td>496791</td>\n",
       "      <td>4600</td>\n",
       "    </tr>\n",
       "    <tr>\n",
       "      <th>15</th>\n",
       "      <td>Soja 1ra</td>\n",
       "      <td>2015/16</td>\n",
       "      <td>BUENOS AIRES</td>\n",
       "      <td>JUNIN</td>\n",
       "      <td>6</td>\n",
       "      <td>413</td>\n",
       "      <td>100040</td>\n",
       "      <td>100040</td>\n",
       "      <td>410164</td>\n",
       "      <td>4100</td>\n",
       "    </tr>\n",
       "    <tr>\n",
       "      <th>16</th>\n",
       "      <td>Soja 1ra</td>\n",
       "      <td>2016/17</td>\n",
       "      <td>BUENOS AIRES</td>\n",
       "      <td>JUNIN</td>\n",
       "      <td>6</td>\n",
       "      <td>413</td>\n",
       "      <td>73060</td>\n",
       "      <td>67580</td>\n",
       "      <td>310868</td>\n",
       "      <td>4600</td>\n",
       "    </tr>\n",
       "    <tr>\n",
       "      <th>17</th>\n",
       "      <td>Soja 1ra</td>\n",
       "      <td>2017/18</td>\n",
       "      <td>BUENOS AIRES</td>\n",
       "      <td>JUNIN</td>\n",
       "      <td>6</td>\n",
       "      <td>413</td>\n",
       "      <td>74000</td>\n",
       "      <td>72500</td>\n",
       "      <td>290000</td>\n",
       "      <td>4000</td>\n",
       "    </tr>\n",
       "    <tr>\n",
       "      <th>18</th>\n",
       "      <td>Soja 1ra</td>\n",
       "      <td>2018/19</td>\n",
       "      <td>BUENOS AIRES</td>\n",
       "      <td>JUNIN</td>\n",
       "      <td>6</td>\n",
       "      <td>413</td>\n",
       "      <td>67000</td>\n",
       "      <td>67000</td>\n",
       "      <td>301500</td>\n",
       "      <td>4500</td>\n",
       "    </tr>\n",
       "    <tr>\n",
       "      <th>19</th>\n",
       "      <td>Soja 1ra</td>\n",
       "      <td>2019/20</td>\n",
       "      <td>BUENOS AIRES</td>\n",
       "      <td>JUNIN</td>\n",
       "      <td>6</td>\n",
       "      <td>413</td>\n",
       "      <td>64000</td>\n",
       "      <td>63700</td>\n",
       "      <td>267540</td>\n",
       "      <td>4200</td>\n",
       "    </tr>\n",
       "    <tr>\n",
       "      <th>20</th>\n",
       "      <td>Soja 1ra</td>\n",
       "      <td>2020/21</td>\n",
       "      <td>BUENOS AIRES</td>\n",
       "      <td>JUNIN</td>\n",
       "      <td>6</td>\n",
       "      <td>413</td>\n",
       "      <td>62000</td>\n",
       "      <td>62000</td>\n",
       "      <td>248000</td>\n",
       "      <td>4000</td>\n",
       "    </tr>\n",
       "    <tr>\n",
       "      <th>21</th>\n",
       "      <td>Soja 1ra</td>\n",
       "      <td>2021/22</td>\n",
       "      <td>BUENOS AIRES</td>\n",
       "      <td>JUNIN</td>\n",
       "      <td>6</td>\n",
       "      <td>413</td>\n",
       "      <td>63000</td>\n",
       "      <td>62700</td>\n",
       "      <td>225720</td>\n",
       "      <td>3600</td>\n",
       "    </tr>\n",
       "    <tr>\n",
       "      <th>22</th>\n",
       "      <td>Soja 1ra</td>\n",
       "      <td>2022/23</td>\n",
       "      <td>BUENOS AIRES</td>\n",
       "      <td>JUNIN</td>\n",
       "      <td>6</td>\n",
       "      <td>413</td>\n",
       "      <td>58000</td>\n",
       "      <td>58000</td>\n",
       "      <td>116000</td>\n",
       "      <td>2000</td>\n",
       "    </tr>\n",
       "    <tr>\n",
       "      <th>23</th>\n",
       "      <td>Soja 1ra</td>\n",
       "      <td>2023/24</td>\n",
       "      <td>BUENOS AIRES</td>\n",
       "      <td>JUNIN</td>\n",
       "      <td>6</td>\n",
       "      <td>413</td>\n",
       "      <td>59000</td>\n",
       "      <td>59000</td>\n",
       "      <td>188800</td>\n",
       "      <td>3200</td>\n",
       "    </tr>\n",
       "  </tbody>\n",
       "</table>\n",
       "</div>"
      ],
      "text/plain": [
       "     Cultivo  Campaña     Provincia Departamento  idProvincia  idDepartamento  \\\n",
       "0   Soja 1ra  2000/01  BUENOS AIRES        JUNIN            6             413   \n",
       "1   Soja 1ra  2001/02  BUENOS AIRES        JUNIN            6             413   \n",
       "2   Soja 1ra  2002/03  BUENOS AIRES        JUNIN            6             413   \n",
       "3   Soja 1ra  2003/04  BUENOS AIRES        JUNIN            6             413   \n",
       "4   Soja 1ra  2004/05  BUENOS AIRES        JUNIN            6             413   \n",
       "5   Soja 1ra  2005/06  BUENOS AIRES        JUNIN            6             413   \n",
       "6   Soja 1ra  2006/07  BUENOS AIRES        JUNIN            6             413   \n",
       "7   Soja 1ra  2007/08  BUENOS AIRES        JUNIN            6             413   \n",
       "8   Soja 1ra  2008/09  BUENOS AIRES        JUNIN            6             413   \n",
       "9   Soja 1ra  2009/10  BUENOS AIRES        JUNIN            6             413   \n",
       "10  Soja 1ra  2010/11  BUENOS AIRES        JUNIN            6             413   \n",
       "11  Soja 1ra  2011/12  BUENOS AIRES        JUNIN            6             413   \n",
       "12  Soja 1ra  2012/13  BUENOS AIRES        JUNIN            6             413   \n",
       "13  Soja 1ra  2013/14  BUENOS AIRES        JUNIN            6             413   \n",
       "14  Soja 1ra  2014/15  BUENOS AIRES        JUNIN            6             413   \n",
       "15  Soja 1ra  2015/16  BUENOS AIRES        JUNIN            6             413   \n",
       "16  Soja 1ra  2016/17  BUENOS AIRES        JUNIN            6             413   \n",
       "17  Soja 1ra  2017/18  BUENOS AIRES        JUNIN            6             413   \n",
       "18  Soja 1ra  2018/19  BUENOS AIRES        JUNIN            6             413   \n",
       "19  Soja 1ra  2019/20  BUENOS AIRES        JUNIN            6             413   \n",
       "20  Soja 1ra  2020/21  BUENOS AIRES        JUNIN            6             413   \n",
       "21  Soja 1ra  2021/22  BUENOS AIRES        JUNIN            6             413   \n",
       "22  Soja 1ra  2022/23  BUENOS AIRES        JUNIN            6             413   \n",
       "23  Soja 1ra  2023/24  BUENOS AIRES        JUNIN            6             413   \n",
       "\n",
       "    Sup. Sembrada  Sup. Cosechada  Producción  Rendimiento  \n",
       "0           30000           29600       88800         3000  \n",
       "1           32000           32000      102500         3203  \n",
       "2           48000           47900      163000         3403  \n",
       "3           58000           58000      168200         2900  \n",
       "4           70689           70689      251319         3555  \n",
       "5           77000           77000      260164         3379  \n",
       "6           75000           75000      285000         3800  \n",
       "7           73000           73000      304729         4174  \n",
       "8          119130          119130      194167         1630  \n",
       "9          107000          107000      374500         3500  \n",
       "10         110000          110000      440000         4000  \n",
       "11         110000          110000      374000         3400  \n",
       "12         121000          121000      459800         3800  \n",
       "13         123000          121000      508200         4200  \n",
       "14         109998          107998      496791         4600  \n",
       "15         100040          100040      410164         4100  \n",
       "16          73060           67580      310868         4600  \n",
       "17          74000           72500      290000         4000  \n",
       "18          67000           67000      301500         4500  \n",
       "19          64000           63700      267540         4200  \n",
       "20          62000           62000      248000         4000  \n",
       "21          63000           62700      225720         3600  \n",
       "22          58000           58000      116000         2000  \n",
       "23          59000           59000      188800         3200  "
      ]
     },
     "execution_count": 6,
     "metadata": {},
     "output_type": "execute_result"
    }
   ],
   "source": [
    "df.head(25)"
   ]
  },
  {
   "cell_type": "code",
   "execution_count": 7,
   "metadata": {},
   "outputs": [
    {
     "name": "stdout",
     "output_type": "stream",
     "text": [
      "1871837\n",
      "1883917\n",
      "Promedio Cosechado/Sembrado 99.35878279138625\n",
      "Promedio rinde gral 362.529877908634\n"
     ]
    },
    {
     "data": {
      "text/html": [
       "<div>\n",
       "<style scoped>\n",
       "    .dataframe tbody tr th:only-of-type {\n",
       "        vertical-align: middle;\n",
       "    }\n",
       "\n",
       "    .dataframe tbody tr th {\n",
       "        vertical-align: top;\n",
       "    }\n",
       "\n",
       "    .dataframe thead th {\n",
       "        text-align: right;\n",
       "    }\n",
       "</style>\n",
       "<table border=\"1\" class=\"dataframe\">\n",
       "  <thead>\n",
       "    <tr style=\"text-align: right;\">\n",
       "      <th></th>\n",
       "      <th>idProvincia</th>\n",
       "      <th>idDepartamento</th>\n",
       "      <th>Sup. Sembrada</th>\n",
       "      <th>Sup. Cosechada</th>\n",
       "      <th>Producción</th>\n",
       "      <th>Rendimiento</th>\n",
       "    </tr>\n",
       "  </thead>\n",
       "  <tbody>\n",
       "    <tr>\n",
       "      <th>count</th>\n",
       "      <td>24.0</td>\n",
       "      <td>24.0</td>\n",
       "      <td>24.000000</td>\n",
       "      <td>24.000000</td>\n",
       "      <td>24.000000</td>\n",
       "      <td>24.000000</td>\n",
       "    </tr>\n",
       "    <tr>\n",
       "      <th>mean</th>\n",
       "      <td>6.0</td>\n",
       "      <td>413.0</td>\n",
       "      <td>78496.541667</td>\n",
       "      <td>77993.208333</td>\n",
       "      <td>284573.416667</td>\n",
       "      <td>3614.333333</td>\n",
       "    </tr>\n",
       "    <tr>\n",
       "      <th>std</th>\n",
       "      <td>0.0</td>\n",
       "      <td>0.0</td>\n",
       "      <td>27478.250322</td>\n",
       "      <td>27372.427033</td>\n",
       "      <td>120782.676671</td>\n",
       "      <td>734.631802</td>\n",
       "    </tr>\n",
       "    <tr>\n",
       "      <th>min</th>\n",
       "      <td>6.0</td>\n",
       "      <td>413.0</td>\n",
       "      <td>30000.000000</td>\n",
       "      <td>29600.000000</td>\n",
       "      <td>88800.000000</td>\n",
       "      <td>1630.000000</td>\n",
       "    </tr>\n",
       "    <tr>\n",
       "      <th>25%</th>\n",
       "      <td>6.0</td>\n",
       "      <td>413.0</td>\n",
       "      <td>61250.000000</td>\n",
       "      <td>61250.000000</td>\n",
       "      <td>192825.250000</td>\n",
       "      <td>3335.000000</td>\n",
       "    </tr>\n",
       "    <tr>\n",
       "      <th>50%</th>\n",
       "      <td>6.0</td>\n",
       "      <td>413.0</td>\n",
       "      <td>73030.000000</td>\n",
       "      <td>71594.500000</td>\n",
       "      <td>276270.000000</td>\n",
       "      <td>3700.000000</td>\n",
       "    </tr>\n",
       "    <tr>\n",
       "      <th>75%</th>\n",
       "      <td>6.0</td>\n",
       "      <td>413.0</td>\n",
       "      <td>107749.500000</td>\n",
       "      <td>107249.500000</td>\n",
       "      <td>374125.000000</td>\n",
       "      <td>4118.500000</td>\n",
       "    </tr>\n",
       "    <tr>\n",
       "      <th>max</th>\n",
       "      <td>6.0</td>\n",
       "      <td>413.0</td>\n",
       "      <td>123000.000000</td>\n",
       "      <td>121000.000000</td>\n",
       "      <td>508200.000000</td>\n",
       "      <td>4600.000000</td>\n",
       "    </tr>\n",
       "  </tbody>\n",
       "</table>\n",
       "</div>"
      ],
      "text/plain": [
       "       idProvincia  idDepartamento  Sup. Sembrada  Sup. Cosechada  \\\n",
       "count         24.0            24.0      24.000000       24.000000   \n",
       "mean           6.0           413.0   78496.541667    77993.208333   \n",
       "std            0.0             0.0   27478.250322    27372.427033   \n",
       "min            6.0           413.0   30000.000000    29600.000000   \n",
       "25%            6.0           413.0   61250.000000    61250.000000   \n",
       "50%            6.0           413.0   73030.000000    71594.500000   \n",
       "75%            6.0           413.0  107749.500000   107249.500000   \n",
       "max            6.0           413.0  123000.000000   121000.000000   \n",
       "\n",
       "          Producción  Rendimiento  \n",
       "count      24.000000    24.000000  \n",
       "mean   284573.416667  3614.333333  \n",
       "std    120782.676671   734.631802  \n",
       "min     88800.000000  1630.000000  \n",
       "25%    192825.250000  3335.000000  \n",
       "50%    276270.000000  3700.000000  \n",
       "75%    374125.000000  4118.500000  \n",
       "max    508200.000000  4600.000000  "
      ]
     },
     "execution_count": 7,
     "metadata": {},
     "output_type": "execute_result"
    }
   ],
   "source": [
    "print(df['Sup. Cosechada'].sum())\n",
    "print(df['Sup. Sembrada'].sum())\n",
    "print('Promedio Cosechado/Sembrado' , (df['Sup. Cosechada'].sum()/ df['Sup. Sembrada'].sum())*100)\n",
    "# dato.head(5)\n",
    "\n",
    "print('Promedio rinde gral' , (df['Producción'].sum()/ df['Sup. Sembrada'].sum())*100)\n",
    "df.describe()\n",
    "\n"
   ]
  },
  {
   "cell_type": "code",
   "execution_count": 8,
   "metadata": {},
   "outputs": [
    {
     "name": "stdout",
     "output_type": "stream",
     "text": [
      "            data       Rinde1       Rinde2\n",
      "count  24.000000    24.000000    24.000000\n",
      "mean    0.993559  3614.333333  3586.750000\n",
      "std     0.015966   734.631802   709.421335\n",
      "min     0.924993  1630.000000  1630.000000\n",
      "25%     0.995294  3335.000000  3335.000000\n",
      "50%     1.000000  3700.000000  3691.500000\n",
      "75%     1.000000  4118.500000  4108.000000\n",
      "max     1.000000  4600.000000  4516.000000\n"
     ]
    },
    {
     "data": {
      "text/html": [
       "<div>\n",
       "<style scoped>\n",
       "    .dataframe tbody tr th:only-of-type {\n",
       "        vertical-align: middle;\n",
       "    }\n",
       "\n",
       "    .dataframe tbody tr th {\n",
       "        vertical-align: top;\n",
       "    }\n",
       "\n",
       "    .dataframe thead th {\n",
       "        text-align: right;\n",
       "    }\n",
       "</style>\n",
       "<table border=\"1\" class=\"dataframe\">\n",
       "  <thead>\n",
       "    <tr style=\"text-align: right;\">\n",
       "      <th></th>\n",
       "      <th>Campaña</th>\n",
       "      <th>data</th>\n",
       "      <th>Rinde1</th>\n",
       "      <th>Rinde2</th>\n",
       "    </tr>\n",
       "  </thead>\n",
       "  <tbody>\n",
       "    <tr>\n",
       "      <th>0</th>\n",
       "      <td>2000/01</td>\n",
       "      <td>0.986667</td>\n",
       "      <td>3000.0</td>\n",
       "      <td>2960.0</td>\n",
       "    </tr>\n",
       "    <tr>\n",
       "      <th>1</th>\n",
       "      <td>2001/02</td>\n",
       "      <td>1.000000</td>\n",
       "      <td>3203.0</td>\n",
       "      <td>3203.0</td>\n",
       "    </tr>\n",
       "    <tr>\n",
       "      <th>2</th>\n",
       "      <td>2002/03</td>\n",
       "      <td>0.997917</td>\n",
       "      <td>3403.0</td>\n",
       "      <td>3396.0</td>\n",
       "    </tr>\n",
       "    <tr>\n",
       "      <th>3</th>\n",
       "      <td>2003/04</td>\n",
       "      <td>1.000000</td>\n",
       "      <td>2900.0</td>\n",
       "      <td>2900.0</td>\n",
       "    </tr>\n",
       "    <tr>\n",
       "      <th>4</th>\n",
       "      <td>2004/05</td>\n",
       "      <td>1.000000</td>\n",
       "      <td>3555.0</td>\n",
       "      <td>3555.0</td>\n",
       "    </tr>\n",
       "    <tr>\n",
       "      <th>5</th>\n",
       "      <td>2005/06</td>\n",
       "      <td>1.000000</td>\n",
       "      <td>3379.0</td>\n",
       "      <td>3379.0</td>\n",
       "    </tr>\n",
       "    <tr>\n",
       "      <th>6</th>\n",
       "      <td>2006/07</td>\n",
       "      <td>1.000000</td>\n",
       "      <td>3800.0</td>\n",
       "      <td>3800.0</td>\n",
       "    </tr>\n",
       "    <tr>\n",
       "      <th>7</th>\n",
       "      <td>2007/08</td>\n",
       "      <td>1.000000</td>\n",
       "      <td>4174.0</td>\n",
       "      <td>4174.0</td>\n",
       "    </tr>\n",
       "    <tr>\n",
       "      <th>8</th>\n",
       "      <td>2008/09</td>\n",
       "      <td>1.000000</td>\n",
       "      <td>1630.0</td>\n",
       "      <td>1630.0</td>\n",
       "    </tr>\n",
       "    <tr>\n",
       "      <th>9</th>\n",
       "      <td>2009/10</td>\n",
       "      <td>1.000000</td>\n",
       "      <td>3500.0</td>\n",
       "      <td>3500.0</td>\n",
       "    </tr>\n",
       "    <tr>\n",
       "      <th>10</th>\n",
       "      <td>2010/11</td>\n",
       "      <td>1.000000</td>\n",
       "      <td>4000.0</td>\n",
       "      <td>4000.0</td>\n",
       "    </tr>\n",
       "    <tr>\n",
       "      <th>11</th>\n",
       "      <td>2011/12</td>\n",
       "      <td>1.000000</td>\n",
       "      <td>3400.0</td>\n",
       "      <td>3400.0</td>\n",
       "    </tr>\n",
       "    <tr>\n",
       "      <th>12</th>\n",
       "      <td>2012/13</td>\n",
       "      <td>1.000000</td>\n",
       "      <td>3800.0</td>\n",
       "      <td>3800.0</td>\n",
       "    </tr>\n",
       "    <tr>\n",
       "      <th>13</th>\n",
       "      <td>2013/14</td>\n",
       "      <td>0.983740</td>\n",
       "      <td>4200.0</td>\n",
       "      <td>4132.0</td>\n",
       "    </tr>\n",
       "    <tr>\n",
       "      <th>14</th>\n",
       "      <td>2014/15</td>\n",
       "      <td>0.981818</td>\n",
       "      <td>4600.0</td>\n",
       "      <td>4516.0</td>\n",
       "    </tr>\n",
       "    <tr>\n",
       "      <th>15</th>\n",
       "      <td>2015/16</td>\n",
       "      <td>1.000000</td>\n",
       "      <td>4100.0</td>\n",
       "      <td>4100.0</td>\n",
       "    </tr>\n",
       "    <tr>\n",
       "      <th>16</th>\n",
       "      <td>2016/17</td>\n",
       "      <td>0.924993</td>\n",
       "      <td>4600.0</td>\n",
       "      <td>4255.0</td>\n",
       "    </tr>\n",
       "    <tr>\n",
       "      <th>17</th>\n",
       "      <td>2017/18</td>\n",
       "      <td>0.979730</td>\n",
       "      <td>4000.0</td>\n",
       "      <td>3919.0</td>\n",
       "    </tr>\n",
       "    <tr>\n",
       "      <th>18</th>\n",
       "      <td>2018/19</td>\n",
       "      <td>1.000000</td>\n",
       "      <td>4500.0</td>\n",
       "      <td>4500.0</td>\n",
       "    </tr>\n",
       "    <tr>\n",
       "      <th>19</th>\n",
       "      <td>2019/20</td>\n",
       "      <td>0.995313</td>\n",
       "      <td>4200.0</td>\n",
       "      <td>4180.0</td>\n",
       "    </tr>\n",
       "    <tr>\n",
       "      <th>20</th>\n",
       "      <td>2020/21</td>\n",
       "      <td>1.000000</td>\n",
       "      <td>4000.0</td>\n",
       "      <td>4000.0</td>\n",
       "    </tr>\n",
       "    <tr>\n",
       "      <th>21</th>\n",
       "      <td>2021/22</td>\n",
       "      <td>0.995238</td>\n",
       "      <td>3600.0</td>\n",
       "      <td>3583.0</td>\n",
       "    </tr>\n",
       "    <tr>\n",
       "      <th>22</th>\n",
       "      <td>2022/23</td>\n",
       "      <td>1.000000</td>\n",
       "      <td>2000.0</td>\n",
       "      <td>2000.0</td>\n",
       "    </tr>\n",
       "    <tr>\n",
       "      <th>23</th>\n",
       "      <td>2023/24</td>\n",
       "      <td>1.000000</td>\n",
       "      <td>3200.0</td>\n",
       "      <td>3200.0</td>\n",
       "    </tr>\n",
       "  </tbody>\n",
       "</table>\n",
       "</div>"
      ],
      "text/plain": [
       "    Campaña      data  Rinde1  Rinde2\n",
       "0   2000/01  0.986667  3000.0  2960.0\n",
       "1   2001/02  1.000000  3203.0  3203.0\n",
       "2   2002/03  0.997917  3403.0  3396.0\n",
       "3   2003/04  1.000000  2900.0  2900.0\n",
       "4   2004/05  1.000000  3555.0  3555.0\n",
       "5   2005/06  1.000000  3379.0  3379.0\n",
       "6   2006/07  1.000000  3800.0  3800.0\n",
       "7   2007/08  1.000000  4174.0  4174.0\n",
       "8   2008/09  1.000000  1630.0  1630.0\n",
       "9   2009/10  1.000000  3500.0  3500.0\n",
       "10  2010/11  1.000000  4000.0  4000.0\n",
       "11  2011/12  1.000000  3400.0  3400.0\n",
       "12  2012/13  1.000000  3800.0  3800.0\n",
       "13  2013/14  0.983740  4200.0  4132.0\n",
       "14  2014/15  0.981818  4600.0  4516.0\n",
       "15  2015/16  1.000000  4100.0  4100.0\n",
       "16  2016/17  0.924993  4600.0  4255.0\n",
       "17  2017/18  0.979730  4000.0  3919.0\n",
       "18  2018/19  1.000000  4500.0  4500.0\n",
       "19  2019/20  0.995313  4200.0  4180.0\n",
       "20  2020/21  1.000000  4000.0  4000.0\n",
       "21  2021/22  0.995238  3600.0  3583.0\n",
       "22  2022/23  1.000000  2000.0  2000.0\n",
       "23  2023/24  1.000000  3200.0  3200.0"
      ]
     },
     "execution_count": 8,
     "metadata": {},
     "output_type": "execute_result"
    }
   ],
   "source": [
    "\n",
    "dato = pd.DataFrame()\n",
    "dato['Campaña']=df['Campaña']\n",
    "dato['data'] =(df['Sup. Cosechada']/df['Sup. Sembrada'])\n",
    "\n",
    "dato[\"Rinde1\"]=((df['Producción']/ df['Sup. Cosechada'])*1000).round()\n",
    "dato[\"Rinde2\"]=((df['Producción']/ df['Sup. Sembrada'])*1000).round()\n",
    "# \n",
    "PromCosechaSembrado = dato\n",
    "PromCosechaSembrado['Campaña'] =  df['Campaña']\n",
    "print(dato.describe())\n",
    "PromCosechaSembrado.head(50)"
   ]
  },
  {
   "cell_type": "code",
   "execution_count": 9,
   "metadata": {},
   "outputs": [
    {
     "data": {
      "text/plain": [
       "[<matplotlib.lines.Line2D at 0x1b82af4e810>]"
      ]
     },
     "execution_count": 9,
     "metadata": {},
     "output_type": "execute_result"
    },
    {
     "data": {
      "image/png": "[encoded data removed]",
      "text/plain": [
       "<Figure size 1800x800 with 1 Axes>"
      ]
     },
     "metadata": {},
     "output_type": "display_data"
    }
   ],
   "source": [
    "ax=dato.plot(\"Campaña\" , 'Rinde2', xticks=np.arange(0,24),figsize=(18,8) ,  fontsize=7 )\n",
    "ax.plot(np.arange(0,24),3483.791667*np.ones(24))"
   ]
  },
  {
   "cell_type": "code",
   "execution_count": 10,
   "metadata": {},
   "outputs": [],
   "source": [
    "from scipy import stats"
   ]
  },
  {
   "cell_type": "code",
   "execution_count": 11,
   "metadata": {},
   "outputs": [],
   "source": [
    "res = stats.linregress(np.arange(0,24),dato['Rinde2'] )"
   ]
  },
  {
   "cell_type": "code",
   "execution_count": 12,
   "metadata": {},
   "outputs": [
    {
     "data": {
      "text/plain": [
       "np.float64(3328.44)"
      ]
     },
     "execution_count": 12,
     "metadata": {},
     "output_type": "execute_result"
    }
   ],
   "source": [
    "res.intercept"
   ]
  },
  {
   "cell_type": "code",
   "execution_count": 13,
   "metadata": {},
   "outputs": [
    {
     "data": {
      "text/plain": [
       "np.float64(22.46173913043478)"
      ]
     },
     "execution_count": 13,
     "metadata": {},
     "output_type": "execute_result"
    }
   ],
   "source": [
    "res.slope\n",
    "\n",
    "# np.float64(22.46173913043478)"
   ]
  },
  {
   "cell_type": "code",
   "execution_count": 14,
   "metadata": {},
   "outputs": [
    {
     "name": "stdout",
     "output_type": "stream",
     "text": [
      "Y=3328.44 + (22.46173913043478) * X\n"
     ]
    }
   ],
   "source": [
    "print(f'Y={res.intercept} + ({res.slope}) * X')"
   ]
  },
  {
   "cell_type": "code",
   "execution_count": 45,
   "metadata": {},
   "outputs": [
    {
     "name": "stdout",
     "output_type": "stream",
     "text": [
      "24\n",
      "3328.44\n",
      "3350.9017391304346\n",
      "3373.3634782608697\n",
      "3395.8252173913042\n",
      "3418.2869565217393\n",
      "3440.748695652174\n",
      "3463.210434782609\n",
      "3485.6721739130435\n",
      "3508.133913043478\n",
      "3530.595652173913\n",
      "3553.0573913043477\n",
      "3575.5191304347827\n",
      "3597.9808695652173\n",
      "3620.4426086956523\n",
      "3642.904347826087\n",
      "3665.366086956522\n",
      "3687.8278260869565\n",
      "3710.289565217391\n",
      "3732.751304347826\n",
      "3755.2130434782607\n",
      "3777.6747826086958\n",
      "3800.1365217391303\n",
      "3822.5982608695654\n",
      "3845.06\n"
     ]
    }
   ],
   "source": [
    "if res.slope > 0:\n",
    "\n",
    "    prediccion = np.zeros(len(dato['Campaña']))\n",
    "    \n",
    "    print(len(dato['Campaña']))\n",
    "    \n",
    "    for i in range(len(dato['Campaña'])) :\n",
    "        # print(i)\n",
    "        \n",
    "        # print(res.intercept+res.slope*i)\n",
    "        prediccion[i] = res.intercept + res.slope * i\n",
    "\n",
    "for i in range(len(dato['Campaña'])) :\n",
    "        # print(i)\n",
    "        \n",
    "        print(prediccion[i])\n",
    "             "
   ]
  },
  {
   "cell_type": "code",
   "execution_count": 51,
   "metadata": {},
   "outputs": [
    {
     "name": "stdout",
     "output_type": "stream",
     "text": [
      "R-squared: 0.050124\n"
     ]
    }
   ],
   "source": [
    "print(f\"R-squared: {res.rvalue**2:.6f}\")"
   ]
  },
  {
   "cell_type": "code",
   "execution_count": 67,
   "metadata": {},
   "outputs": [
    {
     "data": {
      "text/plain": [
       "np.float64(3586.75)"
      ]
     },
     "execution_count": 67,
     "metadata": {},
     "output_type": "execute_result"
    }
   ],
   "source": [
    "dato['Rinde2'].mean()"
   ]
  },
  {
   "cell_type": "code",
   "execution_count": 72,
   "metadata": {},
   "outputs": [
    {
     "data": {
      "text/plain": [
       "<matplotlib.legend.Legend at 0x1b83b312c30>"
      ]
     },
     "execution_count": 72,
     "metadata": {},
     "output_type": "execute_result"
    },
    {
     "data": {
      "image/png": "[encoded data removed]",
      "text/plain": [
       "<Figure size 1800x800 with 1 Axes>"
      ]
     },
     "metadata": {},
     "output_type": "display_data"
    }
   ],
   "source": [
    "ax=dato.plot(\"Campaña\" , 'Rinde2', xticks=np.arange(0,24),figsize=(18,8) ,  fontsize=7 ,kind='scatter' )\n",
    "\n",
    "\n",
    "# ax.plot(np.arange(0,24),3483.791667*np.ones(24) )\n",
    "\n",
    "ax.plot(np.arange(0,24),dato['Rinde2'].mean()*np.ones(24), label='Promedio')\n",
    "\n",
    "\n",
    "x=np.arange(0,24)\n",
    "\n",
    "# plt.plot(x, res.intercept + res.slope*x, 'r', label='Predicion')\n",
    "\n",
    "plt.plot(x, prediccion,   color='green', linestyle='dashed', marker='o',\n",
    "     markerfacecolor='blue', markersize=5 ,label='Predicion')\n",
    "plt.legend()\n",
    "\n"
   ]
  },
  {
   "cell_type": "markdown",
   "metadata": {},
   "source": [
    "### Incorporamos la prediccion lineal : "
   ]
  },
  {
   "cell_type": "code",
   "execution_count": 82,
   "metadata": {},
   "outputs": [
    {
     "data": {
      "text/plain": [
       "Index(['Campaña', 'data', 'Rinde1', 'Rinde2'], dtype='object')"
      ]
     },
     "execution_count": 82,
     "metadata": {},
     "output_type": "execute_result"
    }
   ],
   "source": [
    "# dato.drop(columns=['Prom/RINDE', 'DIF'], inplace=True)\n",
    "dato.columns"
   ]
  },
  {
   "cell_type": "markdown",
   "metadata": {},
   "source": [
    "## se incorporan los valores"
   ]
  },
  {
   "cell_type": "code",
   "execution_count": 84,
   "metadata": {},
   "outputs": [],
   "source": [
    "dato['Prediccion']=prediccion"
   ]
  },
  {
   "cell_type": "markdown",
   "metadata": {},
   "source": [
    "### se calcula la diferencia predicion con los datos obtenidos del rinde2 == Apartamiento\n"
   ]
  },
  {
   "cell_type": "code",
   "execution_count": 85,
   "metadata": {},
   "outputs": [],
   "source": [
    "dato['Apartamiento']=dato['Rinde2']-dato['Prediccion']"
   ]
  },
  {
   "cell_type": "code",
   "execution_count": 86,
   "metadata": {},
   "outputs": [
    {
     "data": {
      "text/plain": [
       "Index(['Campaña', 'data', 'Rinde1', 'Rinde2', 'Prediccion', 'Apartamiento'], dtype='object')"
      ]
     },
     "execution_count": 86,
     "metadata": {},
     "output_type": "execute_result"
    }
   ],
   "source": [
    "dato.columns"
   ]
  },
  {
   "cell_type": "markdown",
   "metadata": {},
   "source": [
    "#YA CON LOS DATOS TRABAJADOS  se exportan al df = \n",
    "Rinde2\t\n",
    "Prom/Rinde2\t// Predicion\n",
    "Apartamiento\n"
   ]
  },
  {
   "cell_type": "code",
   "execution_count": 91,
   "metadata": {},
   "outputs": [],
   "source": [
    "df['Apartamiento']=dato['Apartamiento']\n",
    "df['Rinde2']=dato['Rinde2']\n",
    "df['Prediccion']=dato['Prediccion']\n"
   ]
  },
  {
   "cell_type": "code",
   "execution_count": 87,
   "metadata": {},
   "outputs": [],
   "source": [
    "df.to_excel(\"Junin.xlsx\" ,sheet_name='ORA_OTTO_JUNIN',index=False)"
   ]
  },
  {
   "cell_type": "markdown",
   "metadata": {},
   "source": [
    "df=pd.read_csv('Estimaciones-1.csv',encoding='latin-1',delimiter=';')"
   ]
  },
  {
   "cell_type": "markdown",
   "metadata": {},
   "source": [
    "## en el caso que sea con pendiente negativa se sigue lo de abajo.\n"
   ]
  },
  {
   "cell_type": "markdown",
   "metadata": {},
   "source": [
    "### pendiente negativa de la regresion se usa el promedio , para hacer la diferencia  entre el valor del rinde menos promedio o regresion\n"
   ]
  },
  {
   "cell_type": "code",
   "execution_count": 74,
   "metadata": {},
   "outputs": [
    {
     "data": {
      "text/html": [
       "<div>\n",
       "<style scoped>\n",
       "    .dataframe tbody tr th:only-of-type {\n",
       "        vertical-align: middle;\n",
       "    }\n",
       "\n",
       "    .dataframe tbody tr th {\n",
       "        vertical-align: top;\n",
       "    }\n",
       "\n",
       "    .dataframe thead th {\n",
       "        text-align: right;\n",
       "    }\n",
       "</style>\n",
       "<table border=\"1\" class=\"dataframe\">\n",
       "  <thead>\n",
       "    <tr style=\"text-align: right;\">\n",
       "      <th></th>\n",
       "      <th>Campaña</th>\n",
       "      <th>data</th>\n",
       "      <th>Rinde1</th>\n",
       "      <th>Rinde2</th>\n",
       "      <th>Prom/RINDE</th>\n",
       "      <th>DIF</th>\n",
       "    </tr>\n",
       "  </thead>\n",
       "  <tbody>\n",
       "    <tr>\n",
       "      <th>0</th>\n",
       "      <td>2000/01</td>\n",
       "      <td>0.986667</td>\n",
       "      <td>3000.0</td>\n",
       "      <td>2960.0</td>\n",
       "      <td>3586.75</td>\n",
       "      <td>-626.75</td>\n",
       "    </tr>\n",
       "    <tr>\n",
       "      <th>1</th>\n",
       "      <td>2001/02</td>\n",
       "      <td>1.000000</td>\n",
       "      <td>3203.0</td>\n",
       "      <td>3203.0</td>\n",
       "      <td>3586.75</td>\n",
       "      <td>-383.75</td>\n",
       "    </tr>\n",
       "    <tr>\n",
       "      <th>2</th>\n",
       "      <td>2002/03</td>\n",
       "      <td>0.997917</td>\n",
       "      <td>3403.0</td>\n",
       "      <td>3396.0</td>\n",
       "      <td>3586.75</td>\n",
       "      <td>-190.75</td>\n",
       "    </tr>\n",
       "    <tr>\n",
       "      <th>3</th>\n",
       "      <td>2003/04</td>\n",
       "      <td>1.000000</td>\n",
       "      <td>2900.0</td>\n",
       "      <td>2900.0</td>\n",
       "      <td>3586.75</td>\n",
       "      <td>-686.75</td>\n",
       "    </tr>\n",
       "    <tr>\n",
       "      <th>4</th>\n",
       "      <td>2004/05</td>\n",
       "      <td>1.000000</td>\n",
       "      <td>3555.0</td>\n",
       "      <td>3555.0</td>\n",
       "      <td>3586.75</td>\n",
       "      <td>-31.75</td>\n",
       "    </tr>\n",
       "  </tbody>\n",
       "</table>\n",
       "</div>"
      ],
      "text/plain": [
       "   Campaña      data  Rinde1  Rinde2  Prom/RINDE     DIF\n",
       "0  2000/01  0.986667  3000.0  2960.0     3586.75 -626.75\n",
       "1  2001/02  1.000000  3203.0  3203.0     3586.75 -383.75\n",
       "2  2002/03  0.997917  3403.0  3396.0     3586.75 -190.75\n",
       "3  2003/04  1.000000  2900.0  2900.0     3586.75 -686.75\n",
       "4  2004/05  1.000000  3555.0  3555.0     3586.75  -31.75"
      ]
     },
     "execution_count": 74,
     "metadata": {},
     "output_type": "execute_result"
    }
   ],
   "source": [
    "\n",
    "dato[\"Prom/RINDE\"]=dato['Rinde2'].mean() \n",
    "dato[\"DIF\"] = (dato['Rinde2']- dato[\"Prom/RINDE\"])\n",
    "dato.head()"
   ]
  },
  {
   "cell_type": "code",
   "execution_count": 78,
   "metadata": {},
   "outputs": [
    {
     "data": {
      "text/plain": [
       "[<matplotlib.lines.Line2D at 0x1b83d299190>]"
      ]
     },
     "execution_count": 78,
     "metadata": {},
     "output_type": "execute_result"
    },
    {
     "data": {
      "image/png": "[encoded data removed]",
      "text/plain": [
       "<Figure size 1800x800 with 1 Axes>"
      ]
     },
     "metadata": {},
     "output_type": "display_data"
    }
   ],
   "source": [
    "ax=dato.plot(\"Campaña\" , 'DIF', xticks=np.arange(0,24),figsize=(18,8) ,  fontsize=7 ,kind='scatter')\n",
    "\n",
    "ax.plot( np.arange(0,24) ,np.zeros(24))"
   ]
  },
  {
   "cell_type": "markdown",
   "metadata": {},
   "source": []
  },
  {
   "cell_type": "markdown",
   "metadata": {},
   "source": [
    "diff=APARTAMIENTO"
   ]
  },
  {
   "cell_type": "markdown",
   "metadata": {},
   "source": [
    "## se sube el original con Rinde2 , el promedio de rinde2 y el apartamiento"
   ]
  },
  {
   "cell_type": "code",
   "execution_count": 19,
   "metadata": {},
   "outputs": [],
   "source": [
    "df['Rinde2']=dato['Rinde2']\n",
    "df['Prom/Rinde2']=dato['Prom/RINDE']\n",
    "df['Apartamiento']=dato['DIF']\n"
   ]
  },
  {
   "cell_type": "code",
   "execution_count": 20,
   "metadata": {},
   "outputs": [
    {
     "data": {
      "text/html": [
       "<div>\n",
       "<style scoped>\n",
       "    .dataframe tbody tr th:only-of-type {\n",
       "        vertical-align: middle;\n",
       "    }\n",
       "\n",
       "    .dataframe tbody tr th {\n",
       "        vertical-align: top;\n",
       "    }\n",
       "\n",
       "    .dataframe thead th {\n",
       "        text-align: right;\n",
       "    }\n",
       "</style>\n",
       "<table border=\"1\" class=\"dataframe\">\n",
       "  <thead>\n",
       "    <tr style=\"text-align: right;\">\n",
       "      <th></th>\n",
       "      <th>Cultivo</th>\n",
       "      <th>Campaña</th>\n",
       "      <th>Provincia</th>\n",
       "      <th>Departamento</th>\n",
       "      <th>idProvincia</th>\n",
       "      <th>idDepartamento</th>\n",
       "      <th>Sup. Sembrada</th>\n",
       "      <th>Sup. Cosechada</th>\n",
       "      <th>Producción</th>\n",
       "      <th>Rendimiento</th>\n",
       "      <th>Rinde2</th>\n",
       "      <th>Prom/Rinde2</th>\n",
       "      <th>Apartamiento</th>\n",
       "    </tr>\n",
       "  </thead>\n",
       "  <tbody>\n",
       "    <tr>\n",
       "      <th>0</th>\n",
       "      <td>Soja 1ra</td>\n",
       "      <td>2000/01</td>\n",
       "      <td>BUENOS AIRES</td>\n",
       "      <td>JUNIN</td>\n",
       "      <td>6</td>\n",
       "      <td>413</td>\n",
       "      <td>30000</td>\n",
       "      <td>29600</td>\n",
       "      <td>88800</td>\n",
       "      <td>3000</td>\n",
       "      <td>2960.0</td>\n",
       "      <td>3586.75</td>\n",
       "      <td>-626.75</td>\n",
       "    </tr>\n",
       "    <tr>\n",
       "      <th>1</th>\n",
       "      <td>Soja 1ra</td>\n",
       "      <td>2001/02</td>\n",
       "      <td>BUENOS AIRES</td>\n",
       "      <td>JUNIN</td>\n",
       "      <td>6</td>\n",
       "      <td>413</td>\n",
       "      <td>32000</td>\n",
       "      <td>32000</td>\n",
       "      <td>102500</td>\n",
       "      <td>3203</td>\n",
       "      <td>3203.0</td>\n",
       "      <td>3586.75</td>\n",
       "      <td>-383.75</td>\n",
       "    </tr>\n",
       "    <tr>\n",
       "      <th>2</th>\n",
       "      <td>Soja 1ra</td>\n",
       "      <td>2002/03</td>\n",
       "      <td>BUENOS AIRES</td>\n",
       "      <td>JUNIN</td>\n",
       "      <td>6</td>\n",
       "      <td>413</td>\n",
       "      <td>48000</td>\n",
       "      <td>47900</td>\n",
       "      <td>163000</td>\n",
       "      <td>3403</td>\n",
       "      <td>3396.0</td>\n",
       "      <td>3586.75</td>\n",
       "      <td>-190.75</td>\n",
       "    </tr>\n",
       "    <tr>\n",
       "      <th>3</th>\n",
       "      <td>Soja 1ra</td>\n",
       "      <td>2003/04</td>\n",
       "      <td>BUENOS AIRES</td>\n",
       "      <td>JUNIN</td>\n",
       "      <td>6</td>\n",
       "      <td>413</td>\n",
       "      <td>58000</td>\n",
       "      <td>58000</td>\n",
       "      <td>168200</td>\n",
       "      <td>2900</td>\n",
       "      <td>2900.0</td>\n",
       "      <td>3586.75</td>\n",
       "      <td>-686.75</td>\n",
       "    </tr>\n",
       "    <tr>\n",
       "      <th>4</th>\n",
       "      <td>Soja 1ra</td>\n",
       "      <td>2004/05</td>\n",
       "      <td>BUENOS AIRES</td>\n",
       "      <td>JUNIN</td>\n",
       "      <td>6</td>\n",
       "      <td>413</td>\n",
       "      <td>70689</td>\n",
       "      <td>70689</td>\n",
       "      <td>251319</td>\n",
       "      <td>3555</td>\n",
       "      <td>3555.0</td>\n",
       "      <td>3586.75</td>\n",
       "      <td>-31.75</td>\n",
       "    </tr>\n",
       "  </tbody>\n",
       "</table>\n",
       "</div>"
      ],
      "text/plain": [
       "    Cultivo  Campaña     Provincia Departamento  idProvincia  idDepartamento  \\\n",
       "0  Soja 1ra  2000/01  BUENOS AIRES        JUNIN            6             413   \n",
       "1  Soja 1ra  2001/02  BUENOS AIRES        JUNIN            6             413   \n",
       "2  Soja 1ra  2002/03  BUENOS AIRES        JUNIN            6             413   \n",
       "3  Soja 1ra  2003/04  BUENOS AIRES        JUNIN            6             413   \n",
       "4  Soja 1ra  2004/05  BUENOS AIRES        JUNIN            6             413   \n",
       "\n",
       "   Sup. Sembrada  Sup. Cosechada  Producción  Rendimiento  Rinde2  \\\n",
       "0          30000           29600       88800         3000  2960.0   \n",
       "1          32000           32000      102500         3203  3203.0   \n",
       "2          48000           47900      163000         3403  3396.0   \n",
       "3          58000           58000      168200         2900  2900.0   \n",
       "4          70689           70689      251319         3555  3555.0   \n",
       "\n",
       "   Prom/Rinde2  Apartamiento  \n",
       "0      3586.75       -626.75  \n",
       "1      3586.75       -383.75  \n",
       "2      3586.75       -190.75  \n",
       "3      3586.75       -686.75  \n",
       "4      3586.75        -31.75  "
      ]
     },
     "execution_count": 20,
     "metadata": {},
     "output_type": "execute_result"
    }
   ],
   "source": [
    "df.head(5)"
   ]
  },
  {
   "cell_type": "code",
   "execution_count": 154,
   "metadata": {},
   "outputs": [],
   "source": [
    "df.to_excel(\"ORA_OTTO.xlsx\" ,sheet_name='ORA_OTTO',index=False)"
   ]
  }
 ],
 "metadata": {
  "colab": {
   "name": "Mi_primera_regresion_logistica.ipynb",
   "provenance": []
  },
  "kernelspec": {
   "display_name": "Python Ora\\BALANCES_GUS_PY  (env)",
   "language": "python",
   "name": "env"
  },
  "language_info": {
   "codemirror_mode": {
    "name": "ipython",
    "version": 3
   },
   "file_extension": ".py",
   "mimetype": "text/x-python",
   "name": "python",
   "nbconvert_exporter": "python",
   "pygments_lexer": "ipython3",
   "version": "3.12.2"
  }
 },
 "nbformat": 4,
 "nbformat_minor": 0
}
